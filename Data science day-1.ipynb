{
 "cells": [
  {
   "cell_type": "code",
   "execution_count": 4,
   "id": "cdad78b9-8c9b-4804-8bb5-52b2ddfdcd8f",
   "metadata": {},
   "outputs": [
    {
     "name": "stdout",
     "output_type": "stream",
     "text": [
      "You are eligible to vote\n"
     ]
    }
   ],
   "source": [
    "## If Statemennts\n",
    "age= 18\n",
    "if age>= 18:\n",
    "    print(\"You are eligible to vote\")"
   ]
  },
  {
   "cell_type": "code",
   "execution_count": 5,
   "id": "f4523230-21de-42ab-a22f-58d6cdf22deb",
   "metadata": {},
   "outputs": [
    {
     "name": "stdout",
     "output_type": "stream",
     "text": [
      "You are not eligible to vote\n"
     ]
    }
   ],
   "source": [
    "## : this colon indicates the start of if block\n",
    "if age<= 18:\n",
    "    print(\"You are not eligible to vote\")"
   ]
  },
  {
   "cell_type": "code",
   "execution_count": 6,
   "id": "19e8399a-e2e7-4fb0-bd56-ed780f6791db",
   "metadata": {},
   "outputs": [
    {
     "data": {
      "text/plain": [
       "True"
      ]
     },
     "execution_count": 6,
     "metadata": {},
     "output_type": "execute_result"
    }
   ],
   "source": [
    "17<18\n"
   ]
  },
  {
   "cell_type": "code",
   "execution_count": 7,
   "id": "e0e2758b-7927-489e-aac8-c1d8444f59cc",
   "metadata": {},
   "outputs": [
    {
     "data": {
      "text/plain": [
       "False"
      ]
     },
     "execution_count": 7,
     "metadata": {},
     "output_type": "execute_result"
    }
   ],
   "source": [
    "18<18"
   ]
  },
  {
   "cell_type": "code",
   "execution_count": 9,
   "id": "f9f468fd-3fde-48d6-aa7b-4a5bf9991fa1",
   "metadata": {},
   "outputs": [
    {
     "name": "stdin",
     "output_type": "stream",
     "text": [
      " sashyawati deka\n"
     ]
    },
    {
     "data": {
      "text/plain": [
       "'sashyawati deka'"
      ]
     },
     "execution_count": 9,
     "metadata": {},
     "output_type": "execute_result"
    }
   ],
   "source": [
    "input()"
   ]
  },
  {
   "cell_type": "code",
   "execution_count": 10,
   "id": "742ad6e2-3201-4618-9ba4-e4966570a1d7",
   "metadata": {},
   "outputs": [
    {
     "name": "stdin",
     "output_type": "stream",
     "text": [
      "Enter the name sashyawati deka\n"
     ]
    }
   ],
   "source": [
    "name=input(\"Enter the name\")"
   ]
  },
  {
   "cell_type": "code",
   "execution_count": 11,
   "id": "a9ca8a0e-5ac3-4eab-8d61-c6ed1631e092",
   "metadata": {},
   "outputs": [
    {
     "data": {
      "text/plain": [
       "'sashyawati deka'"
      ]
     },
     "execution_count": 11,
     "metadata": {},
     "output_type": "execute_result"
    }
   ],
   "source": [
    "name"
   ]
  },
  {
   "cell_type": "code",
   "execution_count": 12,
   "id": "82d3ba57-73d0-4187-ae16-9454b4cc8c77",
   "metadata": {},
   "outputs": [
    {
     "name": "stdin",
     "output_type": "stream",
     "text": [
      "Enter your age 25\n"
     ]
    }
   ],
   "source": [
    "age=int(input(\"Enter your age\"))"
   ]
  },
  {
   "cell_type": "code",
   "execution_count": 13,
   "id": "560c391f-ca4d-48db-8236-b75ac831ac20",
   "metadata": {},
   "outputs": [
    {
     "data": {
      "text/plain": [
       "25"
      ]
     },
     "execution_count": 13,
     "metadata": {},
     "output_type": "execute_result"
    }
   ],
   "source": [
    "age\n"
   ]
  },
  {
   "cell_type": "code",
   "execution_count": 14,
   "id": "84cc0a7c-8c9c-4328-8ae7-654c5f28790d",
   "metadata": {},
   "outputs": [
    {
     "data": {
      "text/plain": [
       "int"
      ]
     },
     "execution_count": 14,
     "metadata": {},
     "output_type": "execute_result"
    }
   ],
   "source": [
    "type(age)"
   ]
  },
  {
   "cell_type": "code",
   "execution_count": 15,
   "id": "6a90b3f6-8df5-43d7-931f-66f30cbf9cc4",
   "metadata": {},
   "outputs": [
    {
     "data": {
      "text/plain": [
       "str"
      ]
     },
     "execution_count": 15,
     "metadata": {},
     "output_type": "execute_result"
    }
   ],
   "source": [
    "type(name)"
   ]
  },
  {
   "cell_type": "code",
   "execution_count": 16,
   "id": "6c0faa16-0a2d-47da-8e07-df4c4541bdf3",
   "metadata": {},
   "outputs": [],
   "source": [
    "## mall- input the product price\n",
    "## product >1000 rs20% off\n",
    "##print the product price\n",
    "## product <=1000 rs 30% off\n",
    "##print the product price\n",
    "##print the product price after removing the discount\n"
   ]
  },
  {
   "cell_type": "code",
   "execution_count": 18,
   "id": "ad0e5956-0822-4692-be43-014796d939fc",
   "metadata": {},
   "outputs": [
    {
     "name": "stdout",
     "output_type": "stream",
     "text": [
      "congratulation you are eligible for 20%off\n"
     ]
    }
   ],
   "source": [
    "price= 2000\n",
    "if price>= 1000:\n",
    "    print(\"congratulation you are eligible for 20%off\")\n",
    "    \n",
    "else price<= 1000:\n",
    "    print(\"congratulation you are eligible for 30%off\")"
   ]
  },
  {
   "cell_type": "code",
   "execution_count": 19,
   "id": "e0c695bb-ff98-4582-be68-ab7d2cdfb8c8",
   "metadata": {},
   "outputs": [
    {
     "name": "stdin",
     "output_type": "stream",
     "text": [
      "Enter the price 2000\n"
     ]
    }
   ],
   "source": [
    "price=int(input(\"Enter the price\"))"
   ]
  },
  {
   "cell_type": "code",
   "execution_count": 20,
   "id": "5b897882-e69b-4838-af2e-3b3c008014c4",
   "metadata": {},
   "outputs": [
    {
     "data": {
      "text/plain": [
       "2000"
      ]
     },
     "execution_count": 20,
     "metadata": {},
     "output_type": "execute_result"
    }
   ],
   "source": [
    "price"
   ]
  },
  {
   "cell_type": "code",
   "execution_count": 21,
   "id": "ea4fd2f9-e797-47f2-8967-19bb04c29187",
   "metadata": {},
   "outputs": [
    {
     "data": {
      "text/plain": [
       "True"
      ]
     },
     "execution_count": 21,
     "metadata": {},
     "output_type": "execute_result"
    }
   ],
   "source": [
    "2000>1000\n"
   ]
  },
  {
   "cell_type": "code",
   "execution_count": 22,
   "id": "b4584d3c-28de-4c41-82c2-9eb42e7630ab",
   "metadata": {},
   "outputs": [
    {
     "data": {
      "text/plain": [
       "True"
      ]
     },
     "execution_count": 22,
     "metadata": {},
     "output_type": "execute_result"
    }
   ],
   "source": [
    "800<1000"
   ]
  },
  {
   "cell_type": "code",
   "execution_count": 23,
   "id": "b5254627-a340-42bd-8429-cbbabcc1273b",
   "metadata": {},
   "outputs": [
    {
     "data": {
      "text/plain": [
       "False"
      ]
     },
     "execution_count": 23,
     "metadata": {},
     "output_type": "execute_result"
    }
   ],
   "source": [
    "900>1000"
   ]
  },
  {
   "cell_type": "code",
   "execution_count": 24,
   "id": "88d3b5bb-8a25-46ad-893f-e83006384f12",
   "metadata": {},
   "outputs": [],
   "source": [
    "# mall- input the product price\n",
    "## product >1000 rs20% off\n",
    "##print the product price\n",
    "## product <=1000 rs 30% off\n",
    "##print the product price\n",
    "##print the product price after removing the discount\n"
   ]
  },
  {
   "cell_type": "code",
   "execution_count": 27,
   "id": "5619bc2b-c629-4817-b272-eecc91512aa0",
   "metadata": {},
   "outputs": [
    {
     "name": "stdin",
     "output_type": "stream",
     "text": [
      "Enter the price 5000\n"
     ]
    },
    {
     "name": "stdout",
     "output_type": "stream",
     "text": [
      "The price of the product is 4000.0\n"
     ]
    }
   ],
   "source": [
    "product_price=int(input(\"Enter the price\"))\n",
    "if product_price>1000:\n",
    "    print(\"The price of the product is {}\" .format(product_price*0.8))\n",
    "else:\n",
    "     print(\"The price of the product is {}\" .format(product_price*0.7))"
   ]
  },
  {
   "cell_type": "code",
   "execution_count": 5,
   "id": "c4a9b8b8-22e6-482d-9f69-12a359997e2c",
   "metadata": {
    "jp-MarkdownHeadingCollapsed": true,
    "tags": []
   },
   "outputs": [
    {
     "name": "stdin",
     "output_type": "stream",
     "text": [
      "Enter the number 500\n"
     ]
    },
    {
     "name": "stdout",
     "output_type": "stream",
     "text": [
      "Value is less than equal to 999\n"
     ]
    }
   ],
   "source": [
    "## single statements suites\n",
    "val=int(input(\"Enter the number\"))\n",
    "if (val<=999): print(\"Value is less than equal to 999\")\n",
    "else:\n",
    "    print(\"Better luck next time\")"
   ]
  },
  {
   "cell_type": "markdown",
   "id": "524128f4-2f31-494d-a3c8-e79ea441454b",
   "metadata": {},
   "source": [
    "## Loops statements\n",
    "1. while loop\n",
    "2. for loop\n",
    "3. nested loop\n",
    "4. loop control(break, continue,pass)"
   ]
  },
  {
   "cell_type": "code",
   "execution_count": 2,
   "id": "c3c8c3a1-444a-4ebc-8cc0-5918466451ea",
   "metadata": {},
   "outputs": [
    {
     "name": "stdout",
     "output_type": "stream",
     "text": [
      "1000\n",
      "900\n",
      "800\n",
      "700\n",
      "600\n",
      "500\n",
      "400\n",
      "300\n",
      "200\n",
      "100\n",
      "put more money on bank people\n"
     ]
    }
   ],
   "source": [
    "## atm machine with 100rs\n",
    "total_amount=1000\n",
    "while total_amount!=0:\n",
    "    print(total_amount)\n",
    "    total_amount=total_amount-100\n",
    "    \n",
    "else:\n",
    "    print(\"put more money on bank people\")"
   ]
  },
  {
   "cell_type": "code",
   "execution_count": 7,
   "id": "3234abf7-185a-4518-b80b-cd0bcaf752db",
   "metadata": {},
   "outputs": [],
   "source": [
    "## list\n"
   ]
  },
  {
   "cell_type": "code",
   "execution_count": null,
   "id": "ddb044c7-e97b-402d-8ece-606a07bfa486",
   "metadata": {},
   "outputs": [],
   "source": [
    "lst=[\"sasu\",1,2,3,4,\"apple\", \"banana\"]"
   ]
  },
  {
   "cell_type": "code",
   "execution_count": 8,
   "id": "43329c62-24fb-4a23-98e8-4107e3135442",
   "metadata": {},
   "outputs": [
    {
     "data": {
      "text/plain": [
       "list"
      ]
     },
     "execution_count": 8,
     "metadata": {},
     "output_type": "execute_result"
    }
   ],
   "source": [
    "type(lst)"
   ]
  },
  {
   "cell_type": "code",
   "execution_count": 10,
   "id": "018063f4-ea73-4e01-9b6b-4fecbcc107de",
   "metadata": {},
   "outputs": [
    {
     "data": {
      "text/plain": [
       "'sasu'"
      ]
     },
     "execution_count": 10,
     "metadata": {},
     "output_type": "execute_result"
    }
   ],
   "source": [
    "lst[0]"
   ]
  },
  {
   "cell_type": "code",
   "execution_count": null,
   "id": "6d447438-b18e-4d07-8e1a-b130f04bc3b5",
   "metadata": {},
   "outputs": [],
   "source": [
    "## For loop"
   ]
  },
  {
   "cell_type": "code",
   "execution_count": null,
   "id": "23862cce-cacd-40d2-bf60-388db3d24b90",
   "metadata": {},
   "outputs": [],
   "source": [
    "[\"sasu\",1,2,3,4,\"apple\", \"banana\"]"
   ]
  },
  {
   "cell_type": "code",
   "execution_count": 11,
   "id": "537783fb-2277-4216-b0e1-d166ea1aa811",
   "metadata": {},
   "outputs": [
    {
     "name": "stdout",
     "output_type": "stream",
     "text": [
      "sasu\n",
      "1\n",
      "2\n",
      "3\n",
      "4\n",
      "apple\n",
      "banana\n"
     ]
    }
   ],
   "source": [
    "for x in lst:\n",
    "    print(x)\n"
   ]
  },
  {
   "cell_type": "code",
   "execution_count": 12,
   "id": "ddcde16e-83ef-4334-a9f5-22b004e55748",
   "metadata": {},
   "outputs": [],
   "source": [
    "## range(it alwaysskips th last nuber till where it range has given)"
   ]
  },
  {
   "cell_type": "code",
   "execution_count": 13,
   "id": "b71020d2-2130-4759-bb32-33138fd723c4",
   "metadata": {},
   "outputs": [
    {
     "name": "stdout",
     "output_type": "stream",
     "text": [
      "1\n",
      "2\n",
      "3\n",
      "4\n",
      "5\n",
      "6\n",
      "7\n",
      "8\n",
      "9\n"
     ]
    }
   ],
   "source": [
    " for i in range(1, 10):\n",
    "        print(i)"
   ]
  },
  {
   "cell_type": "code",
   "execution_count": 15,
   "id": "e6fc958a-2ae7-49ac-92c3-53b4953b680b",
   "metadata": {},
   "outputs": [
    {
     "name": "stdout",
     "output_type": "stream",
     "text": [
      "1\n",
      "4\n",
      "7\n"
     ]
    }
   ],
   "source": [
    "for i in range(1, 10,3):\n",
    "        print(i)"
   ]
  },
  {
   "cell_type": "code",
   "execution_count": 18,
   "id": "999bc0a8-5f7b-4d68-bb34-bd9c78d84018",
   "metadata": {},
   "outputs": [
    {
     "name": "stdout",
     "output_type": "stream",
     "text": [
      "*\n",
      "**\n",
      "***\n",
      "****\n",
      "*****\n",
      "******\n",
      "*******\n"
     ]
    }
   ],
   "source": [
    "## nested loops\n",
    "n=7\n",
    "\n",
    "for i in range(0,n):\n",
    "    for j in range(0,i+1):\n",
    "        print(\"*\", end=\"\")\n",
    "    print(\"\\r\")\n"
   ]
  },
  {
   "cell_type": "code",
   "execution_count": 19,
   "id": "bf2d82c2-bae8-410b-af21-d8a8e21c971e",
   "metadata": {},
   "outputs": [],
   "source": [
    "## loop controls\n",
    "## break\n",
    "## pass\n",
    "## continue"
   ]
  },
  {
   "cell_type": "code",
   "execution_count": 21,
   "id": "b31e8fa5-c499-4923-8218-86781c7ff341",
   "metadata": {},
   "outputs": [],
   "source": [
    "fruit_list=[\"apple\",\"orange\",\"cherry\", \"mango\", \"banana\"]"
   ]
  },
  {
   "cell_type": "code",
   "execution_count": 23,
   "id": "7cf64808-2fb3-4736-8732-2f667258c4c9",
   "metadata": {},
   "outputs": [
    {
     "name": "stdout",
     "output_type": "stream",
     "text": [
      "apple\n",
      "orange\n",
      "the fruit is cherry\n",
      "mango\n",
      "banana\n"
     ]
    }
   ],
   "source": [
    "## continue\n",
    "for i in fruit_list:\n",
    "    if i==\"cherry\":\n",
    "        print(\"the fruit is cherry\")\n",
    "        continue\n",
    "    print(i)\n",
    "    \n"
   ]
  },
  {
   "cell_type": "code",
   "execution_count": 24,
   "id": "0f9f7017-d285-4433-8b88-897d5f783e3f",
   "metadata": {},
   "outputs": [
    {
     "name": "stdout",
     "output_type": "stream",
     "text": [
      "apple\n",
      "orange\n",
      "the fruit is cherry\n"
     ]
    }
   ],
   "source": [
    "## break\n",
    "for i in fruit_list:\n",
    "    if i==\"cherry\":\n",
    "        print(\"the fruit is cherry\")\n",
    "        break\n",
    "    print(i)"
   ]
  },
  {
   "cell_type": "code",
   "execution_count": 25,
   "id": "a6888dbc-cea8-49df-b277-e08b3a806803",
   "metadata": {},
   "outputs": [
    {
     "name": "stdout",
     "output_type": "stream",
     "text": [
      "apple\n",
      "orange\n",
      "the fruit is cherry\n",
      "cherry\n",
      "mango\n",
      "banana\n"
     ]
    }
   ],
   "source": [
    "## pass\n",
    "for i in fruit_list:\n",
    "    if i==\"cherry\":\n",
    "        print(\"the fruit is cherry\")\n",
    "        pass\n",
    "    print(i)"
   ]
  },
  {
   "cell_type": "code",
   "execution_count": null,
   "id": "0c3bf22f-4932-464d-b92d-ab3232a6f15b",
   "metadata": {},
   "outputs": [],
   "source": []
  }
 ],
 "metadata": {
  "kernelspec": {
   "display_name": "Python 3 (ipykernel)",
   "language": "python",
   "name": "python3"
  },
  "language_info": {
   "codemirror_mode": {
    "name": "ipython",
    "version": 3
   },
   "file_extension": ".py",
   "mimetype": "text/x-python",
   "name": "python",
   "nbconvert_exporter": "python",
   "pygments_lexer": "ipython3",
   "version": "3.10.8"
  }
 },
 "nbformat": 4,
 "nbformat_minor": 5
}
