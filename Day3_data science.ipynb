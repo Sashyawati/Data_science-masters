{
 "cells": [
  {
   "cell_type": "code",
   "execution_count": 3,
   "id": "b443d34b-a797-4de9-98dd-82d0134f7198",
   "metadata": {},
   "outputs": [],
   "source": [
    "name=\"Data Science Masters\""
   ]
  },
  {
   "cell_type": "code",
   "execution_count": 4,
   "id": "0def1385-f36e-426a-9b3b-06c9248eec05",
   "metadata": {},
   "outputs": [
    {
     "data": {
      "text/plain": [
       "'dATA sCIENCE mASTERS'"
      ]
     },
     "execution_count": 4,
     "metadata": {},
     "output_type": "execute_result"
    }
   ],
   "source": [
    "name.swapcase()"
   ]
  },
  {
   "cell_type": "code",
   "execution_count": 5,
   "id": "afae2042-6597-4218-bb5d-f357ab309d2f",
   "metadata": {},
   "outputs": [
    {
     "data": {
      "text/plain": [
       "'Data Science Masters'"
      ]
     },
     "execution_count": 5,
     "metadata": {},
     "output_type": "execute_result"
    }
   ],
   "source": [
    "name.title()"
   ]
  },
  {
   "cell_type": "code",
   "execution_count": 7,
   "id": "ba11c4b2-47b2-4017-9715-3f78f847865e",
   "metadata": {},
   "outputs": [
    {
     "data": {
      "text/plain": [
       "'Data science masters'"
      ]
     },
     "execution_count": 7,
     "metadata": {},
     "output_type": "execute_result"
    }
   ],
   "source": [
    "name.capitalize()"
   ]
  },
  {
   "cell_type": "code",
   "execution_count": null,
   "id": "f28e70b0-d7c5-43b0-a498-42f757ec0f58",
   "metadata": {},
   "outputs": [],
   "source": [
    "##Removing charcters from the end of the string"
   ]
  },
  {
   "cell_type": "code",
   "execution_count": 9,
   "id": "8d8614be-e375-48ed-aec0-c3af3dfa5738",
   "metadata": {},
   "outputs": [],
   "source": [
    "string_a=\" Pwskills \""
   ]
  },
  {
   "cell_type": "code",
   "execution_count": 10,
   "id": "590561ab-e3dd-445a-8f21-48d917bb1876",
   "metadata": {},
   "outputs": [
    {
     "data": {
      "text/plain": [
       "'Pwskills'"
      ]
     },
     "execution_count": 10,
     "metadata": {},
     "output_type": "execute_result"
    }
   ],
   "source": [
    "string_a.strip(\" \")"
   ]
  },
  {
   "cell_type": "code",
   "execution_count": null,
   "id": "5c6acc48-41d8-4eb9-9bfa-de0410b8daa2",
   "metadata": {},
   "outputs": [],
   "source": [
    "#reverse string order"
   ]
  },
  {
   "cell_type": "code",
   "execution_count": 2,
   "id": "1ad9a73c-2293-42a8-9938-d5e4303df8ca",
   "metadata": {},
   "outputs": [
    {
     "data": {
      "text/plain": [
       "'a n t'"
      ]
     },
     "execution_count": 2,
     "metadata": {},
     "output_type": "execute_result"
    }
   ],
   "source": [
    "' '.join('ant')"
   ]
  },
  {
   "cell_type": "code",
   "execution_count": 4,
   "id": "aa08e9f0-1030-4fb1-bf31-0a5ba4812747",
   "metadata": {},
   "outputs": [
    {
     "data": {
      "text/plain": [
       "'t n a'"
      ]
     },
     "execution_count": 4,
     "metadata": {},
     "output_type": "execute_result"
    }
   ],
   "source": [
    "' '.join(reversed('ant'))"
   ]
  },
  {
   "cell_type": "code",
   "execution_count": 5,
   "id": "17081e66-c0d0-4ae9-9a85-7bc3432d4d6d",
   "metadata": {},
   "outputs": [
    {
     "data": {
      "text/plain": [
       "'tna'"
      ]
     },
     "execution_count": 5,
     "metadata": {},
     "output_type": "execute_result"
    }
   ],
   "source": [
    "''.join(reversed('ant'))"
   ]
  },
  {
   "cell_type": "code",
   "execution_count": 6,
   "id": "e1dbe27e-6bd3-41c4-b0bf-aac85152207c",
   "metadata": {},
   "outputs": [
    {
     "data": {
      "text/plain": [
       "'t Pwskills n Pwskills a'"
      ]
     },
     "execution_count": 6,
     "metadata": {},
     "output_type": "execute_result"
    }
   ],
   "source": [
    "' Pwskills '.join(reversed('ant'))"
   ]
  },
  {
   "cell_type": "code",
   "execution_count": 8,
   "id": "cb6d6f5f-f305-44f1-add4-ffe7318475a3",
   "metadata": {},
   "outputs": [
    {
     "data": {
      "text/plain": [
       "['t', 'n', 'a']"
      ]
     },
     "execution_count": 8,
     "metadata": {},
     "output_type": "execute_result"
    }
   ],
   "source": [
    "#typecating\n",
    "list(reversed('ant'))"
   ]
  },
  {
   "cell_type": "code",
   "execution_count": 17,
   "id": "59714553-234a-4cb2-a968-076b3a6b85ba",
   "metadata": {},
   "outputs": [
    {
     "name": "stdout",
     "output_type": "stream",
     "text": [
      "hello world\n"
     ]
    }
   ],
   "source": [
    "print('hello world')"
   ]
  },
  {
   "cell_type": "code",
   "execution_count": 19,
   "id": "d849b660-a425-4c6d-8567-012f9bd060d4",
   "metadata": {},
   "outputs": [],
   "source": [
    "string_n=\"greetings to pwskills\""
   ]
  },
  {
   "cell_type": "code",
   "execution_count": 20,
   "id": "46f1cb07-4b54-41a2-8235-d16250042a36",
   "metadata": {},
   "outputs": [
    {
     "data": {
      "text/plain": [
       "'greetings from pwskills'"
      ]
     },
     "execution_count": 20,
     "metadata": {},
     "output_type": "execute_result"
    }
   ],
   "source": [
    "string_n.replace(\"to\",\"from\")"
   ]
  },
  {
   "cell_type": "code",
   "execution_count": 23,
   "id": "86d69838-4a9e-4963-a264-408f98a8bbb6",
   "metadata": {},
   "outputs": [
    {
     "data": {
      "text/plain": [
       "'hello world'"
      ]
     },
     "execution_count": 23,
     "metadata": {},
     "output_type": "execute_result"
    }
   ],
   "source": [
    "\"hello world\""
   ]
  },
  {
   "cell_type": "code",
   "execution_count": 27,
   "id": "19750fe4-27a8-4d96-a783-34573e3d3d1f",
   "metadata": {},
   "outputs": [
    {
     "data": {
      "text/plain": [
       "'hello   world'"
      ]
     },
     "execution_count": 27,
     "metadata": {},
     "output_type": "execute_result"
    }
   ],
   "source": [
    "#it helps to add extra space\n",
    "\"hello \\tworld\".expandtabs()"
   ]
  },
  {
   "cell_type": "code",
   "execution_count": 44,
   "id": "72c6ed66-73b5-48ec-a9eb-137c480c34cd",
   "metadata": {},
   "outputs": [
    {
     "data": {
      "text/plain": [
       "'welcome to pwskills.here is our data science master class.'"
      ]
     },
     "execution_count": 44,
     "metadata": {},
     "output_type": "execute_result"
    }
   ],
   "source": [
    "str_p=\"welcome to pwskills.here is our dat cience master class.\"\n",
    "str_p.replace(\"dat\",\"data\").replace(\"cience\",\"science\")"
   ]
  },
  {
   "cell_type": "code",
   "execution_count": null,
   "id": "212cbddd-701c-466d-94f8-e5bb1219770d",
   "metadata": {},
   "outputs": [],
   "source": []
  },
  {
   "cell_type": "code",
   "execution_count": 43,
   "id": "c7ef503e-b281-499b-bdba-5f4b5587535b",
   "metadata": {},
   "outputs": [],
   "source": [
    "str1='KRISH'"
   ]
  },
  {
   "cell_type": "code",
   "execution_count": 32,
   "id": "41a6df66-e124-47a1-9052-d54bee08bcf0",
   "metadata": {},
   "outputs": [
    {
     "data": {
      "text/plain": [
       "True"
      ]
     },
     "execution_count": 32,
     "metadata": {},
     "output_type": "execute_result"
    }
   ],
   "source": [
    "str1.isupper()"
   ]
  },
  {
   "cell_type": "code",
   "execution_count": 34,
   "id": "5fc71e93-581c-4f74-b6e8-997a626456a6",
   "metadata": {},
   "outputs": [
    {
     "data": {
      "text/plain": [
       "False"
      ]
     },
     "execution_count": 34,
     "metadata": {},
     "output_type": "execute_result"
    }
   ],
   "source": [
    "str1.islower()"
   ]
  },
  {
   "cell_type": "code",
   "execution_count": 35,
   "id": "cfa54e38-86b1-40e8-943a-e9aa9b646f2b",
   "metadata": {},
   "outputs": [
    {
     "data": {
      "text/plain": [
       "True"
      ]
     },
     "execution_count": 35,
     "metadata": {},
     "output_type": "execute_result"
    }
   ],
   "source": [
    "' '.isspace()"
   ]
  },
  {
   "cell_type": "code",
   "execution_count": 46,
   "id": "ca552a8c-77b1-447c-8a95-c726ef5cdaea",
   "metadata": {},
   "outputs": [
    {
     "data": {
      "text/plain": [
       "True"
      ]
     },
     "execution_count": 46,
     "metadata": {},
     "output_type": "execute_result"
    }
   ],
   "source": [
    "str2=\"pwskills\"\n",
    "str2.endswith(\"s\")"
   ]
  },
  {
   "cell_type": "code",
   "execution_count": 3,
   "id": "e4324642-1324-43b9-8c8e-ab0cf25cd631",
   "metadata": {},
   "outputs": [
    {
     "data": {
      "text/plain": [
       "'GreetingT from pwTkillT'"
      ]
     },
     "execution_count": 3,
     "metadata": {},
     "output_type": "execute_result"
    }
   ],
   "source": [
    "str_n=\"Greetings from pwskills\"\n",
    "str_n.replace(\"s\",\"T\")"
   ]
  },
  {
   "cell_type": "code",
   "execution_count": 5,
   "id": "eea62cd1-34ab-4ab1-8c3d-5090ca235469",
   "metadata": {},
   "outputs": [
    {
     "data": {
      "text/plain": [
       "'Sashyawati      deka'"
      ]
     },
     "execution_count": 5,
     "metadata": {},
     "output_type": "execute_result"
    }
   ],
   "source": [
    "##whenver there is \\t is there it adds space\n",
    "Sashyawati \\tdeka\".expandtabs()"
   ]
  },
  {
   "cell_type": "code",
   "execution_count": 7,
   "id": "6e93d49b-8675-429c-be2c-c2b532328cf3",
   "metadata": {},
   "outputs": [
    {
     "data": {
      "text/plain": [
       "True"
      ]
     },
     "execution_count": 7,
     "metadata": {},
     "output_type": "execute_result"
    }
   ],
   "source": [
    "##check if the character is in the alphanumeric\n",
    "a='abcd1234'\n",
    "a.isalnum()"
   ]
  },
  {
   "cell_type": "code",
   "execution_count": 19,
   "id": "86dd5fb6-f1f3-4491-914a-c72bf537ec44",
   "metadata": {},
   "outputs": [
    {
     "name": "stdout",
     "output_type": "stream",
     "text": [
      "p is  not a vowel\n",
      "w is  not a vowel\n",
      "s is  not a vowel\n",
      "k is  not a vowel\n",
      "i is a vowel\n",
      "l is  not a vowel\n",
      "l is  not a vowel\n",
      "s is  not a vowel\n"
     ]
    }
   ],
   "source": [
    "Name = \"pwskills\"\n",
    "Vowel = \"aeiou\"\n",
    "for ch in Name:\n",
    "    if ch in Vowel:\n",
    "        print(\"{} is a vowel\".format(ch))\n",
    "    else:\n",
    "        print(\"{} is  not a vowel\".format(ch))"
   ]
  },
  {
   "cell_type": "code",
   "execution_count": 20,
   "id": "7ba1c57b-3e68-4a7a-9db4-cfcc0254df77",
   "metadata": {},
   "outputs": [
    {
     "name": "stdout",
     "output_type": "stream",
     "text": [
      "p is  not a vowel\n",
      "w is  not a vowel\n",
      "s is  not a vowel\n",
      "k is  not a vowel\n",
      "i is a vowel\n",
      "l is  not a vowel\n",
      "l is  not a vowel\n",
      "s is  not a vowel\n"
     ]
    }
   ],
   "source": [
    "for ch in Name:\n",
    "    if ch in Vowel:\n",
    "        print(\"{} is a vowel\".format(ch))\n",
    "    else:\n",
    "        print(\"{} is  not a vowel\".format(ch))"
   ]
  },
  {
   "cell_type": "code",
   "execution_count": 23,
   "id": "3f533d3f-0a51-4c2e-a4e5-0d2fc7127e95",
   "metadata": {},
   "outputs": [
    {
     "data": {
      "text/plain": [
       "'monkey'"
      ]
     },
     "execution_count": 23,
     "metadata": {},
     "output_type": "execute_result"
    }
   ],
   "source": [
    "lst1=[\"lion\",\"zebra\",\"donkey\",\"monkey\"]\n",
    "lst1.pop()"
   ]
  },
  {
   "cell_type": "code",
   "execution_count": 24,
   "id": "0ed97f39-a485-49a1-8c35-621302d3ddd1",
   "metadata": {},
   "outputs": [
    {
     "data": {
      "text/plain": [
       "'donkey'"
      ]
     },
     "execution_count": 24,
     "metadata": {},
     "output_type": "execute_result"
    }
   ],
   "source": [
    "lst1.pop(2)"
   ]
  },
  {
   "cell_type": "code",
   "execution_count": 25,
   "id": "295aa64e-3b92-4295-b4e4-4f61cf4d0f7c",
   "metadata": {},
   "outputs": [
    {
     "data": {
      "text/plain": [
       "['lion', 'zebra']"
      ]
     },
     "execution_count": 25,
     "metadata": {},
     "output_type": "execute_result"
    }
   ],
   "source": [
    "lst1"
   ]
  },
  {
   "cell_type": "code",
   "execution_count": null,
   "id": "9b460b9a-6225-4b95-a716-66ba7ab0e078",
   "metadata": {},
   "outputs": [],
   "source": [
    "## Assignment \n",
    "## Using both code and list comprehesnion\n",
    "# Example 2: Create a list of only the prime numbers from a given list\n",
    "numbers = [1, 2, 3, 4, 5, 6, 7, 8, 9, 10]"
   ]
  },
  {
   "cell_type": "code",
   "execution_count": 10,
   "id": "33a0171e-68b2-49db-8465-2ebf79b0e19d",
   "metadata": {},
   "outputs": [
    {
     "name": "stdout",
     "output_type": "stream",
     "text": [
      "[1, 2, 3, 5, 7]\n"
     ]
    }
   ],
   "source": [
    "numbers = [1,2,3,4,5,6,7,8,9,10]\n",
    "primes = [num for num in numbers if all(num % i != 0 for i in range(2, int(num**0.5)+1))]\n",
    "print(primes)"
   ]
  },
  {
   "cell_type": "code",
   "execution_count": 9,
   "id": "89dfc0de-2f25-43af-b370-fd3812fdfb85",
   "metadata": {},
   "outputs": [
    {
     "data": {
      "text/plain": [
       "[1, 2, 3, 5, 7]"
      ]
     },
     "execution_count": 9,
     "metadata": {},
     "output_type": "execute_result"
    }
   ],
   "source": [
    "primes"
   ]
  },
  {
   "cell_type": "code",
   "execution_count": 20,
   "id": "7e44e9f7-f2ea-4103-b3ec-b8e0066c81e9",
   "metadata": {},
   "outputs": [
    {
     "data": {
      "text/plain": [
       "(-1+3j)"
      ]
     },
     "execution_count": 20,
     "metadata": {},
     "output_type": "execute_result"
    }
   ],
   "source": [
    "num1= 50\n",
    "\n",
    "num2= 44\n",
    "\n",
    "num2= 2+3j\n",
    "\n",
    "num1= num2.imag\n",
    "\n",
    "num2-num1"
   ]
  },
  {
   "cell_type": "code",
   "execution_count": null,
   "id": "fba07d4e-7852-44ff-b643-f850c6f977e3",
   "metadata": {},
   "outputs": [],
   "source": [
    "# Example 3: Create a list of all the possible combinations of 2 elements from a list\n",
    "numbers = [1, 2, 3, 4, 5]"
   ]
  },
  {
   "cell_type": "code",
   "execution_count": null,
   "id": "1db3ca15-11cf-46a7-8dd7-03b0914ee55f",
   "metadata": {},
   "outputs": [],
   "source": []
  },
  {
   "cell_type": "code",
   "execution_count": null,
   "id": "a074693b-0645-4675-8def-f9d147df3f88",
   "metadata": {},
   "outputs": [],
   "source": []
  },
  {
   "cell_type": "code",
   "execution_count": null,
   "id": "96c84da4-ee18-440a-9708-9dc1cb9f0eae",
   "metadata": {},
   "outputs": [],
   "source": []
  },
  {
   "cell_type": "code",
   "execution_count": null,
   "id": "59ef3623-76c3-4198-ae8c-94e9e859cd11",
   "metadata": {},
   "outputs": [],
   "source": []
  },
  {
   "cell_type": "code",
   "execution_count": null,
   "id": "04fb26f6-15f1-40f8-b44c-d06609eada0d",
   "metadata": {},
   "outputs": [],
   "source": []
  },
  {
   "cell_type": "code",
   "execution_count": null,
   "id": "913d5698-9c79-4f75-93b2-d6de081fc797",
   "metadata": {},
   "outputs": [],
   "source": []
  },
  {
   "cell_type": "code",
   "execution_count": null,
   "id": "865eab85-a1dc-4004-93fa-1f4fe2fb47ac",
   "metadata": {},
   "outputs": [],
   "source": []
  },
  {
   "cell_type": "code",
   "execution_count": null,
   "id": "7fe30cfc-ff70-407c-b1ec-05906a85b63c",
   "metadata": {},
   "outputs": [],
   "source": []
  },
  {
   "cell_type": "code",
   "execution_count": null,
   "id": "35e22674-f44f-4fd7-a86e-805ef966549d",
   "metadata": {},
   "outputs": [],
   "source": []
  },
  {
   "cell_type": "code",
   "execution_count": null,
   "id": "356e003f-58b7-42ce-997d-88d040e464ef",
   "metadata": {},
   "outputs": [],
   "source": []
  },
  {
   "cell_type": "code",
   "execution_count": null,
   "id": "3e9864ff-64d1-4ba6-8f01-fd01e08a11ce",
   "metadata": {},
   "outputs": [],
   "source": []
  },
  {
   "cell_type": "code",
   "execution_count": null,
   "id": "f86b165f-e2b9-4e35-b9de-7b4645ec15b6",
   "metadata": {},
   "outputs": [],
   "source": []
  },
  {
   "cell_type": "code",
   "execution_count": null,
   "id": "c7b0d37d-1720-40df-8c4d-8c67ae53ab99",
   "metadata": {},
   "outputs": [],
   "source": []
  },
  {
   "cell_type": "code",
   "execution_count": null,
   "id": "a8b71e92-421b-4809-bc75-cc6829f7bba0",
   "metadata": {},
   "outputs": [],
   "source": []
  },
  {
   "cell_type": "code",
   "execution_count": null,
   "id": "8cf0f175-70a8-4cf9-aa70-846eccc2d73e",
   "metadata": {},
   "outputs": [],
   "source": []
  },
  {
   "cell_type": "code",
   "execution_count": null,
   "id": "38078f5d-908f-4237-95e9-06aaece4eb1f",
   "metadata": {},
   "outputs": [],
   "source": []
  },
  {
   "cell_type": "code",
   "execution_count": null,
   "id": "9cf2e449-1ae5-44ba-9254-afb766924e39",
   "metadata": {},
   "outputs": [],
   "source": []
  },
  {
   "cell_type": "code",
   "execution_count": null,
   "id": "bf555ef2-c6f9-4eb7-99a1-98407c405ba6",
   "metadata": {},
   "outputs": [],
   "source": []
  },
  {
   "cell_type": "code",
   "execution_count": null,
   "id": "5ed00891-f517-4556-b8da-b179a45fc5ac",
   "metadata": {},
   "outputs": [],
   "source": []
  },
  {
   "cell_type": "code",
   "execution_count": null,
   "id": "b38d178a-2a85-4470-bb52-3e9c3222a99e",
   "metadata": {},
   "outputs": [],
   "source": []
  }
 ],
 "metadata": {
  "kernelspec": {
   "display_name": "Python 3 (ipykernel)",
   "language": "python",
   "name": "python3"
  },
  "language_info": {
   "codemirror_mode": {
    "name": "ipython",
    "version": 3
   },
   "file_extension": ".py",
   "mimetype": "text/x-python",
   "name": "python",
   "nbconvert_exporter": "python",
   "pygments_lexer": "ipython3",
   "version": "3.10.8"
  }
 },
 "nbformat": 4,
 "nbformat_minor": 5
}
